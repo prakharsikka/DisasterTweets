{
 "cells": [
  {
   "cell_type": "code",
   "execution_count": 69,
   "id": "3839bba9",
   "metadata": {},
   "outputs": [],
   "source": [
    "import numpy as np\n",
    "import pandas as pd\n",
    "from sklearn.feature_extraction.text import CountVectorizer, TfidfVectorizer\n",
    "from sklearn.linear_model import LogisticRegression\n",
    "from sklearn.metrics import accuracy_score, f1_score\n",
    "from sklearn.model_selection import learning_curve, cross_val_score, StratifiedKFold\n",
    "from sklearn.preprocessing import OneHotEncoder, LabelEncoder\n",
    "from sklearn.ensemble import StackingClassifier\n",
    "from sklearn.pipeline import Pipeline\n",
    "from sklearn import svm\n",
    "from sklearn.tree import DecisionTreeClassifier\n",
    "from sklearn.compose import ColumnTransformer\n",
    "from nltk.tokenize import word_tokenize\n",
    "from nltk.stem import WordNetLemmatizer\n",
    "import nltk\n",
    "from xgboost import XGBClassifier\n",
    "from scipy.sparse import hstack\n",
    "from matplotlib import pyplot as plt\n",
    "import re\n",
    "import string"
   ]
  },
  {
   "cell_type": "code",
   "execution_count": 2,
   "id": "fe827ec2",
   "metadata": {},
   "outputs": [],
   "source": [
    "train = pd.read_csv('train.csv')"
   ]
  },
  {
   "cell_type": "code",
   "execution_count": 3,
   "id": "a1f6f995",
   "metadata": {},
   "outputs": [],
   "source": [
    "test = pd.read_csv('test.csv')"
   ]
  },
  {
   "cell_type": "code",
   "execution_count": 4,
   "id": "0bb58853",
   "metadata": {},
   "outputs": [
    {
     "data": {
      "text/html": [
       "<div>\n",
       "<style scoped>\n",
       "    .dataframe tbody tr th:only-of-type {\n",
       "        vertical-align: middle;\n",
       "    }\n",
       "\n",
       "    .dataframe tbody tr th {\n",
       "        vertical-align: top;\n",
       "    }\n",
       "\n",
       "    .dataframe thead th {\n",
       "        text-align: right;\n",
       "    }\n",
       "</style>\n",
       "<table border=\"1\" class=\"dataframe\">\n",
       "  <thead>\n",
       "    <tr style=\"text-align: right;\">\n",
       "      <th></th>\n",
       "      <th>id</th>\n",
       "      <th>keyword</th>\n",
       "      <th>location</th>\n",
       "      <th>text</th>\n",
       "      <th>target</th>\n",
       "    </tr>\n",
       "  </thead>\n",
       "  <tbody>\n",
       "    <tr>\n",
       "      <th>0</th>\n",
       "      <td>1</td>\n",
       "      <td>NaN</td>\n",
       "      <td>NaN</td>\n",
       "      <td>Our Deeds are the Reason of this #earthquake M...</td>\n",
       "      <td>1</td>\n",
       "    </tr>\n",
       "    <tr>\n",
       "      <th>1</th>\n",
       "      <td>4</td>\n",
       "      <td>NaN</td>\n",
       "      <td>NaN</td>\n",
       "      <td>Forest fire near La Ronge Sask. Canada</td>\n",
       "      <td>1</td>\n",
       "    </tr>\n",
       "    <tr>\n",
       "      <th>2</th>\n",
       "      <td>5</td>\n",
       "      <td>NaN</td>\n",
       "      <td>NaN</td>\n",
       "      <td>All residents asked to 'shelter in place' are ...</td>\n",
       "      <td>1</td>\n",
       "    </tr>\n",
       "    <tr>\n",
       "      <th>3</th>\n",
       "      <td>6</td>\n",
       "      <td>NaN</td>\n",
       "      <td>NaN</td>\n",
       "      <td>13,000 people receive #wildfires evacuation or...</td>\n",
       "      <td>1</td>\n",
       "    </tr>\n",
       "    <tr>\n",
       "      <th>4</th>\n",
       "      <td>7</td>\n",
       "      <td>NaN</td>\n",
       "      <td>NaN</td>\n",
       "      <td>Just got sent this photo from Ruby #Alaska as ...</td>\n",
       "      <td>1</td>\n",
       "    </tr>\n",
       "  </tbody>\n",
       "</table>\n",
       "</div>"
      ],
      "text/plain": [
       "   id keyword location                                               text  \\\n",
       "0   1     NaN      NaN  Our Deeds are the Reason of this #earthquake M...   \n",
       "1   4     NaN      NaN             Forest fire near La Ronge Sask. Canada   \n",
       "2   5     NaN      NaN  All residents asked to 'shelter in place' are ...   \n",
       "3   6     NaN      NaN  13,000 people receive #wildfires evacuation or...   \n",
       "4   7     NaN      NaN  Just got sent this photo from Ruby #Alaska as ...   \n",
       "\n",
       "   target  \n",
       "0       1  \n",
       "1       1  \n",
       "2       1  \n",
       "3       1  \n",
       "4       1  "
      ]
     },
     "execution_count": 4,
     "metadata": {},
     "output_type": "execute_result"
    }
   ],
   "source": [
    "train.head()"
   ]
  },
  {
   "cell_type": "code",
   "execution_count": 5,
   "id": "5b11654e",
   "metadata": {},
   "outputs": [
    {
     "name": "stdout",
     "output_type": "stream",
     "text": [
      "<class 'pandas.core.frame.DataFrame'>\n",
      "RangeIndex: 7613 entries, 0 to 7612\n",
      "Data columns (total 5 columns):\n",
      " #   Column    Non-Null Count  Dtype \n",
      "---  ------    --------------  ----- \n",
      " 0   id        7613 non-null   int64 \n",
      " 1   keyword   7552 non-null   object\n",
      " 2   location  5080 non-null   object\n",
      " 3   text      7613 non-null   object\n",
      " 4   target    7613 non-null   int64 \n",
      "dtypes: int64(2), object(3)\n",
      "memory usage: 297.5+ KB\n"
     ]
    }
   ],
   "source": [
    "train.info()"
   ]
  },
  {
   "cell_type": "code",
   "execution_count": 6,
   "id": "b6ece9ea",
   "metadata": {},
   "outputs": [
    {
     "data": {
      "text/html": [
       "<div>\n",
       "<style scoped>\n",
       "    .dataframe tbody tr th:only-of-type {\n",
       "        vertical-align: middle;\n",
       "    }\n",
       "\n",
       "    .dataframe tbody tr th {\n",
       "        vertical-align: top;\n",
       "    }\n",
       "\n",
       "    .dataframe thead th {\n",
       "        text-align: right;\n",
       "    }\n",
       "</style>\n",
       "<table border=\"1\" class=\"dataframe\">\n",
       "  <thead>\n",
       "    <tr style=\"text-align: right;\">\n",
       "      <th></th>\n",
       "      <th>id</th>\n",
       "      <th>target</th>\n",
       "    </tr>\n",
       "  </thead>\n",
       "  <tbody>\n",
       "    <tr>\n",
       "      <th>count</th>\n",
       "      <td>7613.000000</td>\n",
       "      <td>7613.00000</td>\n",
       "    </tr>\n",
       "    <tr>\n",
       "      <th>mean</th>\n",
       "      <td>5441.934848</td>\n",
       "      <td>0.42966</td>\n",
       "    </tr>\n",
       "    <tr>\n",
       "      <th>std</th>\n",
       "      <td>3137.116090</td>\n",
       "      <td>0.49506</td>\n",
       "    </tr>\n",
       "    <tr>\n",
       "      <th>min</th>\n",
       "      <td>1.000000</td>\n",
       "      <td>0.00000</td>\n",
       "    </tr>\n",
       "    <tr>\n",
       "      <th>25%</th>\n",
       "      <td>2734.000000</td>\n",
       "      <td>0.00000</td>\n",
       "    </tr>\n",
       "    <tr>\n",
       "      <th>50%</th>\n",
       "      <td>5408.000000</td>\n",
       "      <td>0.00000</td>\n",
       "    </tr>\n",
       "    <tr>\n",
       "      <th>75%</th>\n",
       "      <td>8146.000000</td>\n",
       "      <td>1.00000</td>\n",
       "    </tr>\n",
       "    <tr>\n",
       "      <th>max</th>\n",
       "      <td>10873.000000</td>\n",
       "      <td>1.00000</td>\n",
       "    </tr>\n",
       "  </tbody>\n",
       "</table>\n",
       "</div>"
      ],
      "text/plain": [
       "                 id      target\n",
       "count   7613.000000  7613.00000\n",
       "mean    5441.934848     0.42966\n",
       "std     3137.116090     0.49506\n",
       "min        1.000000     0.00000\n",
       "25%     2734.000000     0.00000\n",
       "50%     5408.000000     0.00000\n",
       "75%     8146.000000     1.00000\n",
       "max    10873.000000     1.00000"
      ]
     },
     "execution_count": 6,
     "metadata": {},
     "output_type": "execute_result"
    }
   ],
   "source": [
    "train.describe()"
   ]
  },
  {
   "cell_type": "code",
   "execution_count": 7,
   "id": "aec20aa2",
   "metadata": {},
   "outputs": [
    {
     "data": {
      "text/plain": [
       "0    4342\n",
       "1    3271\n",
       "Name: target, dtype: int64"
      ]
     },
     "execution_count": 7,
     "metadata": {},
     "output_type": "execute_result"
    }
   ],
   "source": [
    "train.target.value_counts()"
   ]
  },
  {
   "cell_type": "code",
   "execution_count": 8,
   "id": "1f676a0d",
   "metadata": {},
   "outputs": [],
   "source": [
    "## GLOBAL VARIABLES\n",
    "SEED = 42\n",
    "FOLDS = 5 # number of folds that we will create in the next steps\n",
    "np.random.seed(SEED)"
   ]
  },
  {
   "cell_type": "markdown",
   "id": "59849c68",
   "metadata": {},
   "source": [
    "## Data Cleaning"
   ]
  },
  {
   "cell_type": "markdown",
   "id": "837c74c8",
   "metadata": {},
   "source": [
    "### Removing URLs"
   ]
  },
  {
   "cell_type": "code",
   "execution_count": 9,
   "id": "953149c2",
   "metadata": {},
   "outputs": [
    {
     "data": {
      "text/plain": [
       "407"
      ]
     },
     "execution_count": 9,
     "metadata": {},
     "output_type": "execute_result"
    }
   ],
   "source": [
    "train[train.text.str.contains(\"https.\")].shape[0]"
   ]
  },
  {
   "cell_type": "code",
   "execution_count": 10,
   "id": "0295c927",
   "metadata": {},
   "outputs": [],
   "source": [
    "def remove_URL(text):\n",
    "    url = re.compile(r'https?://\\S+|www\\.\\S+')\n",
    "    return url.sub(r'',text)\n",
    "\n",
    "train['text'] = train['text'].apply(lambda x : remove_URL(x))\n",
    "test['text'] = test['text'].apply(lambda x : remove_URL(x))"
   ]
  },
  {
   "cell_type": "code",
   "execution_count": 11,
   "id": "5f8cc259",
   "metadata": {},
   "outputs": [
    {
     "data": {
      "text/plain": [
       "0"
      ]
     },
     "execution_count": 11,
     "metadata": {},
     "output_type": "execute_result"
    }
   ],
   "source": [
    "train[train.text.str.contains(\"https.\")].shape[0]"
   ]
  },
  {
   "cell_type": "markdown",
   "id": "58896c02",
   "metadata": {},
   "source": [
    "### Removing punctuation marks"
   ]
  },
  {
   "cell_type": "code",
   "execution_count": 12,
   "id": "657e3e57",
   "metadata": {},
   "outputs": [],
   "source": [
    "def remove_punct(text):\n",
    "    table=str.maketrans('','',string.punctuation)\n",
    "    return text.translate(table)\n",
    "\n",
    "train['text'] = train['text'].apply(lambda x : remove_punct(x))\n",
    "test['text'] = test['text'].apply(lambda x : remove_punct(x))"
   ]
  },
  {
   "cell_type": "markdown",
   "id": "b9ef59ed",
   "metadata": {},
   "source": [
    "### Removing multiple whitespaces"
   ]
  },
  {
   "cell_type": "code",
   "execution_count": 13,
   "id": "c358f9f9",
   "metadata": {},
   "outputs": [],
   "source": [
    "train['text']=train['text'].str.replace('   ', ' ')\n",
    "train['text']=train['text'].str.replace('     ', ' ')\n",
    "train['text']=train['text'].str.replace('\\xa0 \\xa0 \\xa0', ' ')\n",
    "train['text']=train['text'].str.replace('  ', ' ')\n",
    "train['text']=train['text'].str.replace('—', ' ')\n",
    "train['text']=train['text'].str.replace('–', ' ')\n",
    "\n",
    "test['text']=test['text'].str.replace('   ', ' ')\n",
    "test['text']=test['text'].str.replace('     ', ' ')\n",
    "test['text']=test['text'].str.replace('\\xa0 \\xa0 \\xa0', ' ')\n",
    "test['text']=test['text'].str.replace('  ', ' ')\n",
    "test['text']=test['text'].str.replace('—', ' ')\n",
    "test['text']=test['text'].str.replace('–', ' ')"
   ]
  },
  {
   "cell_type": "code",
   "execution_count": 14,
   "id": "83610ba7",
   "metadata": {},
   "outputs": [
    {
     "data": {
      "text/html": [
       "<div>\n",
       "<style scoped>\n",
       "    .dataframe tbody tr th:only-of-type {\n",
       "        vertical-align: middle;\n",
       "    }\n",
       "\n",
       "    .dataframe tbody tr th {\n",
       "        vertical-align: top;\n",
       "    }\n",
       "\n",
       "    .dataframe thead th {\n",
       "        text-align: right;\n",
       "    }\n",
       "</style>\n",
       "<table border=\"1\" class=\"dataframe\">\n",
       "  <thead>\n",
       "    <tr style=\"text-align: right;\">\n",
       "      <th></th>\n",
       "      <th>id</th>\n",
       "      <th>keyword</th>\n",
       "      <th>location</th>\n",
       "      <th>text</th>\n",
       "      <th>target</th>\n",
       "    </tr>\n",
       "  </thead>\n",
       "  <tbody>\n",
       "    <tr>\n",
       "      <th>0</th>\n",
       "      <td>1</td>\n",
       "      <td>NaN</td>\n",
       "      <td>NaN</td>\n",
       "      <td>Our Deeds are the Reason of this earthquake Ma...</td>\n",
       "      <td>1</td>\n",
       "    </tr>\n",
       "    <tr>\n",
       "      <th>1</th>\n",
       "      <td>4</td>\n",
       "      <td>NaN</td>\n",
       "      <td>NaN</td>\n",
       "      <td>Forest fire near La Ronge Sask Canada</td>\n",
       "      <td>1</td>\n",
       "    </tr>\n",
       "    <tr>\n",
       "      <th>2</th>\n",
       "      <td>5</td>\n",
       "      <td>NaN</td>\n",
       "      <td>NaN</td>\n",
       "      <td>All residents asked to shelter in place are be...</td>\n",
       "      <td>1</td>\n",
       "    </tr>\n",
       "    <tr>\n",
       "      <th>3</th>\n",
       "      <td>6</td>\n",
       "      <td>NaN</td>\n",
       "      <td>NaN</td>\n",
       "      <td>13000 people receive wildfires evacuation orde...</td>\n",
       "      <td>1</td>\n",
       "    </tr>\n",
       "    <tr>\n",
       "      <th>4</th>\n",
       "      <td>7</td>\n",
       "      <td>NaN</td>\n",
       "      <td>NaN</td>\n",
       "      <td>Just got sent this photo from Ruby Alaska as s...</td>\n",
       "      <td>1</td>\n",
       "    </tr>\n",
       "  </tbody>\n",
       "</table>\n",
       "</div>"
      ],
      "text/plain": [
       "   id keyword location                                               text  \\\n",
       "0   1     NaN      NaN  Our Deeds are the Reason of this earthquake Ma...   \n",
       "1   4     NaN      NaN              Forest fire near La Ronge Sask Canada   \n",
       "2   5     NaN      NaN  All residents asked to shelter in place are be...   \n",
       "3   6     NaN      NaN  13000 people receive wildfires evacuation orde...   \n",
       "4   7     NaN      NaN  Just got sent this photo from Ruby Alaska as s...   \n",
       "\n",
       "   target  \n",
       "0       1  \n",
       "1       1  \n",
       "2       1  \n",
       "3       1  \n",
       "4       1  "
      ]
     },
     "execution_count": 14,
     "metadata": {},
     "output_type": "execute_result"
    }
   ],
   "source": [
    "train.head()"
   ]
  },
  {
   "cell_type": "code",
   "execution_count": 17,
   "id": "37ed4677",
   "metadata": {},
   "outputs": [
    {
     "data": {
      "text/html": [
       "<div>\n",
       "<style scoped>\n",
       "    .dataframe tbody tr th:only-of-type {\n",
       "        vertical-align: middle;\n",
       "    }\n",
       "\n",
       "    .dataframe tbody tr th {\n",
       "        vertical-align: top;\n",
       "    }\n",
       "\n",
       "    .dataframe thead th {\n",
       "        text-align: right;\n",
       "    }\n",
       "</style>\n",
       "<table border=\"1\" class=\"dataframe\">\n",
       "  <thead>\n",
       "    <tr style=\"text-align: right;\">\n",
       "      <th></th>\n",
       "      <th>id</th>\n",
       "      <th>keyword</th>\n",
       "      <th>location</th>\n",
       "      <th>text</th>\n",
       "      <th>target</th>\n",
       "    </tr>\n",
       "  </thead>\n",
       "  <tbody>\n",
       "    <tr>\n",
       "      <th>0</th>\n",
       "      <td>1</td>\n",
       "      <td>NaN</td>\n",
       "      <td>NaN</td>\n",
       "      <td>Our Deeds are the Reason of this earthquake Ma...</td>\n",
       "      <td>1</td>\n",
       "    </tr>\n",
       "    <tr>\n",
       "      <th>1</th>\n",
       "      <td>4</td>\n",
       "      <td>NaN</td>\n",
       "      <td>NaN</td>\n",
       "      <td>Forest fire near La Ronge Sask Canada</td>\n",
       "      <td>1</td>\n",
       "    </tr>\n",
       "    <tr>\n",
       "      <th>2</th>\n",
       "      <td>5</td>\n",
       "      <td>NaN</td>\n",
       "      <td>NaN</td>\n",
       "      <td>All residents asked to shelter in place are be...</td>\n",
       "      <td>1</td>\n",
       "    </tr>\n",
       "    <tr>\n",
       "      <th>3</th>\n",
       "      <td>6</td>\n",
       "      <td>NaN</td>\n",
       "      <td>NaN</td>\n",
       "      <td>13000 people receive wildfires evacuation orde...</td>\n",
       "      <td>1</td>\n",
       "    </tr>\n",
       "    <tr>\n",
       "      <th>4</th>\n",
       "      <td>7</td>\n",
       "      <td>NaN</td>\n",
       "      <td>NaN</td>\n",
       "      <td>Just got sent this photo from Ruby Alaska as s...</td>\n",
       "      <td>1</td>\n",
       "    </tr>\n",
       "    <tr>\n",
       "      <th>...</th>\n",
       "      <td>...</td>\n",
       "      <td>...</td>\n",
       "      <td>...</td>\n",
       "      <td>...</td>\n",
       "      <td>...</td>\n",
       "    </tr>\n",
       "    <tr>\n",
       "      <th>7608</th>\n",
       "      <td>10869</td>\n",
       "      <td>NaN</td>\n",
       "      <td>NaN</td>\n",
       "      <td>Two giant cranes holding a bridge collapse int...</td>\n",
       "      <td>1</td>\n",
       "    </tr>\n",
       "    <tr>\n",
       "      <th>7609</th>\n",
       "      <td>10870</td>\n",
       "      <td>NaN</td>\n",
       "      <td>NaN</td>\n",
       "      <td>ariaahrary TheTawniest The out of control wild...</td>\n",
       "      <td>1</td>\n",
       "    </tr>\n",
       "    <tr>\n",
       "      <th>7610</th>\n",
       "      <td>10871</td>\n",
       "      <td>NaN</td>\n",
       "      <td>NaN</td>\n",
       "      <td>M194 0104 UTC5km S of Volcano Hawaii</td>\n",
       "      <td>1</td>\n",
       "    </tr>\n",
       "    <tr>\n",
       "      <th>7611</th>\n",
       "      <td>10872</td>\n",
       "      <td>NaN</td>\n",
       "      <td>NaN</td>\n",
       "      <td>Police investigating after an ebike collided w...</td>\n",
       "      <td>1</td>\n",
       "    </tr>\n",
       "    <tr>\n",
       "      <th>7612</th>\n",
       "      <td>10873</td>\n",
       "      <td>NaN</td>\n",
       "      <td>NaN</td>\n",
       "      <td>The Latest More Homes Razed by Northern Califo...</td>\n",
       "      <td>1</td>\n",
       "    </tr>\n",
       "  </tbody>\n",
       "</table>\n",
       "<p>61 rows × 5 columns</p>\n",
       "</div>"
      ],
      "text/plain": [
       "         id keyword location  \\\n",
       "0         1     NaN      NaN   \n",
       "1         4     NaN      NaN   \n",
       "2         5     NaN      NaN   \n",
       "3         6     NaN      NaN   \n",
       "4         7     NaN      NaN   \n",
       "...     ...     ...      ...   \n",
       "7608  10869     NaN      NaN   \n",
       "7609  10870     NaN      NaN   \n",
       "7610  10871     NaN      NaN   \n",
       "7611  10872     NaN      NaN   \n",
       "7612  10873     NaN      NaN   \n",
       "\n",
       "                                                   text  target  \n",
       "0     Our Deeds are the Reason of this earthquake Ma...       1  \n",
       "1                 Forest fire near La Ronge Sask Canada       1  \n",
       "2     All residents asked to shelter in place are be...       1  \n",
       "3     13000 people receive wildfires evacuation orde...       1  \n",
       "4     Just got sent this photo from Ruby Alaska as s...       1  \n",
       "...                                                 ...     ...  \n",
       "7608  Two giant cranes holding a bridge collapse int...       1  \n",
       "7609  ariaahrary TheTawniest The out of control wild...       1  \n",
       "7610              M194 0104 UTC5km S of Volcano Hawaii        1  \n",
       "7611  Police investigating after an ebike collided w...       1  \n",
       "7612  The Latest More Homes Razed by Northern Califo...       1  \n",
       "\n",
       "[61 rows x 5 columns]"
      ]
     },
     "execution_count": 17,
     "metadata": {},
     "output_type": "execute_result"
    }
   ],
   "source": [
    "train[train.keyword.isna()]"
   ]
  },
  {
   "cell_type": "markdown",
   "id": "a89f8de9",
   "metadata": {},
   "source": [
    "### Treating missing values"
   ]
  },
  {
   "cell_type": "code",
   "execution_count": 18,
   "id": "15d4541a",
   "metadata": {},
   "outputs": [],
   "source": [
    "train.fillna(\"5555\", inplace=True)\n",
    "test.fillna(\"5555\", inplace=True)"
   ]
  },
  {
   "cell_type": "code",
   "execution_count": 19,
   "id": "4f43db32",
   "metadata": {},
   "outputs": [
    {
     "data": {
      "text/html": [
       "<div>\n",
       "<style scoped>\n",
       "    .dataframe tbody tr th:only-of-type {\n",
       "        vertical-align: middle;\n",
       "    }\n",
       "\n",
       "    .dataframe tbody tr th {\n",
       "        vertical-align: top;\n",
       "    }\n",
       "\n",
       "    .dataframe thead th {\n",
       "        text-align: right;\n",
       "    }\n",
       "</style>\n",
       "<table border=\"1\" class=\"dataframe\">\n",
       "  <thead>\n",
       "    <tr style=\"text-align: right;\">\n",
       "      <th></th>\n",
       "      <th>id</th>\n",
       "      <th>keyword</th>\n",
       "      <th>location</th>\n",
       "      <th>text</th>\n",
       "      <th>target</th>\n",
       "    </tr>\n",
       "  </thead>\n",
       "  <tbody>\n",
       "    <tr>\n",
       "      <th>0</th>\n",
       "      <td>1</td>\n",
       "      <td>5555</td>\n",
       "      <td>5555</td>\n",
       "      <td>Our Deeds are the Reason of this earthquake Ma...</td>\n",
       "      <td>1</td>\n",
       "    </tr>\n",
       "    <tr>\n",
       "      <th>1</th>\n",
       "      <td>4</td>\n",
       "      <td>5555</td>\n",
       "      <td>5555</td>\n",
       "      <td>Forest fire near La Ronge Sask Canada</td>\n",
       "      <td>1</td>\n",
       "    </tr>\n",
       "    <tr>\n",
       "      <th>2</th>\n",
       "      <td>5</td>\n",
       "      <td>5555</td>\n",
       "      <td>5555</td>\n",
       "      <td>All residents asked to shelter in place are be...</td>\n",
       "      <td>1</td>\n",
       "    </tr>\n",
       "    <tr>\n",
       "      <th>3</th>\n",
       "      <td>6</td>\n",
       "      <td>5555</td>\n",
       "      <td>5555</td>\n",
       "      <td>13000 people receive wildfires evacuation orde...</td>\n",
       "      <td>1</td>\n",
       "    </tr>\n",
       "    <tr>\n",
       "      <th>4</th>\n",
       "      <td>7</td>\n",
       "      <td>5555</td>\n",
       "      <td>5555</td>\n",
       "      <td>Just got sent this photo from Ruby Alaska as s...</td>\n",
       "      <td>1</td>\n",
       "    </tr>\n",
       "  </tbody>\n",
       "</table>\n",
       "</div>"
      ],
      "text/plain": [
       "   id keyword location                                               text  \\\n",
       "0   1    5555     5555  Our Deeds are the Reason of this earthquake Ma...   \n",
       "1   4    5555     5555              Forest fire near La Ronge Sask Canada   \n",
       "2   5    5555     5555  All residents asked to shelter in place are be...   \n",
       "3   6    5555     5555  13000 people receive wildfires evacuation orde...   \n",
       "4   7    5555     5555  Just got sent this photo from Ruby Alaska as s...   \n",
       "\n",
       "   target  \n",
       "0       1  \n",
       "1       1  \n",
       "2       1  \n",
       "3       1  \n",
       "4       1  "
      ]
     },
     "execution_count": 19,
     "metadata": {},
     "output_type": "execute_result"
    }
   ],
   "source": [
    "train.head()"
   ]
  },
  {
   "cell_type": "markdown",
   "id": "dfe96c22",
   "metadata": {},
   "source": [
    "### Stratified k fold split"
   ]
  },
  {
   "cell_type": "code",
   "execution_count": 20,
   "id": "a552c6d5",
   "metadata": {},
   "outputs": [],
   "source": [
    "CV = StratifiedKFold(n_splits=5, shuffle=True, random_state=SEED)"
   ]
  },
  {
   "cell_type": "markdown",
   "id": "0ed532ef",
   "metadata": {},
   "source": [
    "## Model Evaluation"
   ]
  },
  {
   "cell_type": "code",
   "execution_count": 21,
   "id": "f2f36b0d",
   "metadata": {},
   "outputs": [],
   "source": [
    "def evaluate_model(y_true, y_pred):    \n",
    "    # calculate f1 score\n",
    "    f1 = f1_score(y_true, y_pred)    \n",
    "    print(f\"Validation F1: {f1}\")\n",
    "    print(\"\")\n",
    "    return f1"
   ]
  },
  {
   "cell_type": "markdown",
   "id": "dc84c827",
   "metadata": {},
   "source": [
    "### Model scores"
   ]
  },
  {
   "cell_type": "code",
   "execution_count": 22,
   "id": "06b90c95",
   "metadata": {},
   "outputs": [],
   "source": [
    "def get_model_scores(X, y, pipeline, cv):\n",
    "    scores = cross_val_score(pipeline, X, y, scoring='f1', cv=cv, n_jobs=-1)\n",
    "    return scores\n",
    "\n",
    "def print_score_summary(scores):\n",
    "    for fold, score in enumerate(scores):\n",
    "        print(f\"Fold {fold}:\")\n",
    "        print(f\"F1 validation score: {score}\")\n",
    "        print(\"\")\n",
    "    \n",
    "    print(f\"Average F1 validation: {np.mean(scores)}\")"
   ]
  },
  {
   "cell_type": "markdown",
   "id": "690c0950",
   "metadata": {},
   "source": [
    "### Plot learning curves"
   ]
  },
  {
   "cell_type": "code",
   "execution_count": 23,
   "id": "56d9f5a9",
   "metadata": {},
   "outputs": [],
   "source": [
    "def plot_learning_curve(estimator, X, y, cv, title):\n",
    "    train_sizes, train_scores, valid_scores = learning_curve(estimator,\n",
    "                                                             X,\n",
    "                                                             y,\n",
    "                                                             scoring=\"f1\",\n",
    "                                                             cv=cv)\n",
    "\n",
    "    train_scores_mean = np.mean(train_scores, axis=1)\n",
    "    val_scores_mean = np.mean(valid_scores, axis=1)\n",
    "\n",
    "    train_scores_std = np.std(train_scores, axis=1)\n",
    "    val_scores_std = np.std(valid_scores, axis=1)\n",
    "\n",
    "    fig, ax = plt.subplots()\n",
    "    ax.plot(train_sizes, train_scores_mean, \"o-\", color=\"r\", label=\"Training score\")\n",
    "    ax.plot(train_sizes, val_scores_mean, \"o-\", color=\"g\", label=\"Cross-validation score\")\n",
    "    ax.fill_between(\n",
    "        train_sizes,\n",
    "        train_scores_mean - train_scores_std,\n",
    "        train_scores_mean + train_scores_std,\n",
    "        alpha=0.1,\n",
    "        color=\"r\",\n",
    "    )\n",
    "    ax.fill_between(\n",
    "        train_sizes,\n",
    "        val_scores_mean - val_scores_std,\n",
    "        val_scores_mean + val_scores_std,\n",
    "        alpha=0.1,\n",
    "        color=\"g\",\n",
    "    )\n",
    "    ax.set_ylim(0.0, 1.01)\n",
    "    ax.legend(loc=\"best\")\n",
    "    ax.set_xlabel(\"Training examples\")\n",
    "    ax.set_ylabel(\"F1-score\")\n",
    "    ax.set_title(f\"{title}\")\n",
    "    plt.show()"
   ]
  },
  {
   "cell_type": "markdown",
   "id": "d0bf14be",
   "metadata": {},
   "source": [
    "## Different models"
   ]
  },
  {
   "cell_type": "markdown",
   "id": "f229e19e",
   "metadata": {},
   "source": [
    "- Dummy baseline"
   ]
  },
  {
   "cell_type": "markdown",
   "id": "55433b23",
   "metadata": {},
   "source": [
    "### Dummy baseline"
   ]
  },
  {
   "cell_type": "code",
   "execution_count": 57,
   "id": "e759d075",
   "metadata": {},
   "outputs": [
    {
     "name": "stdout",
     "output_type": "stream",
     "text": [
      "Steps of the baseline model [('encoder', OneHotEncoder(handle_unknown='ignore')), ('model', LogisticRegression(random_state=42, solver='liblinear'))]\n"
     ]
    },
    {
     "data": {
      "image/png": "[encoded data removed]",
      "text/plain": [
       "<Figure size 432x288 with 1 Axes>"
      ]
     },
     "metadata": {
      "needs_background": "light"
     },
     "output_type": "display_data"
    },
    {
     "name": "stdout",
     "output_type": "stream",
     "text": [
      "Fold 0:\n",
      "F1 validation score: 0.6931818181818182\n",
      "\n",
      "Fold 1:\n",
      "F1 validation score: 0.6598101265822784\n",
      "\n",
      "Fold 2:\n",
      "F1 validation score: 0.6445344129554657\n",
      "\n",
      "Fold 3:\n",
      "F1 validation score: 0.6853932584269663\n",
      "\n",
      "Fold 4:\n",
      "F1 validation score: 0.680577849117175\n",
      "\n",
      "Average F1 validation: 0.6726994930527408\n"
     ]
    }
   ],
   "source": [
    "# create a list to append the steps of the preprossesing pipeline\n",
    "steps_baseline = list()\n",
    "steps_baseline.append(('encoder', OneHotEncoder(handle_unknown='ignore')))\n",
    "steps_baseline.append(('model', LogisticRegression(solver='liblinear', random_state = SEED)))\n",
    "print(\"Steps of the baseline model\" ,steps_baseline)\n",
    "# create the pipeline\n",
    "pipeline_baseline = Pipeline(steps=steps_baseline)\n",
    "\n",
    "# get model cross-validated scores.\n",
    "# using the cross-validation strategy defined\n",
    "# at the beggining of the notebook\n",
    "scores = get_model_scores(X=train[['keyword']],\n",
    "                          y=train['target'],\n",
    "                          pipeline=pipeline_baseline,\n",
    "                          cv=CV)\n",
    "\n",
    "# plot the learning curve\n",
    "plot_learning_curve(pipeline_baseline,\n",
    "                    X=train[['keyword']],\n",
    "                    y=train['target'],\n",
    "                    cv=CV,\n",
    "                    title=\"Learning Curve - Baseline Model\")\n",
    "\n",
    "print_score_summary(scores)"
   ]
  },
  {
   "cell_type": "markdown",
   "id": "e5408b91",
   "metadata": {},
   "source": [
    "### Logistic regression with TF-IDF vectorization"
   ]
  },
  {
   "cell_type": "code",
   "execution_count": 58,
   "id": "86b13e49",
   "metadata": {},
   "outputs": [],
   "source": [
    "steps_tfidf = list()\n",
    "vectorizer = TfidfVectorizer(tokenizer=word_tokenize, token_pattern=None)\n",
    "steps_tfidf.append(('tf-idf',vectorizer))\n",
    "steps_tfidf.append(('model', LogisticRegression(solver='liblinear',random_state = SEED)))\n",
    "pipeline_tfidf = Pipeline(steps_tfidf)"
   ]
  },
  {
   "cell_type": "code",
   "execution_count": 59,
   "id": "6e46da6e",
   "metadata": {},
   "outputs": [
    {
     "data": {
      "image/png": "[encoded data removed]",
      "text/plain": [
       "<Figure size 432x288 with 1 Axes>"
      ]
     },
     "metadata": {
      "needs_background": "light"
     },
     "output_type": "display_data"
    },
    {
     "name": "stdout",
     "output_type": "stream",
     "text": [
      "Fold 0:\n",
      "F1 validation score: 0.7572977481234362\n",
      "\n",
      "Fold 1:\n",
      "F1 validation score: 0.7502102607232968\n",
      "\n",
      "Fold 2:\n",
      "F1 validation score: 0.7425249169435216\n",
      "\n",
      "Fold 3:\n",
      "F1 validation score: 0.746419545071609\n",
      "\n",
      "Fold 4:\n",
      "F1 validation score: 0.7694886839899414\n",
      "\n",
      "Average F1 validation: 0.753188230970361\n"
     ]
    }
   ],
   "source": [
    "scores = get_model_scores(X=train.text,\n",
    "                          y=train['target'],\n",
    "                          pipeline=pipeline_tfidf,\n",
    "                          cv=CV)\n",
    "\n",
    "# plot the learning curve\n",
    "plot_learning_curve(pipeline_tfidf,\n",
    "                    X=train.text,\n",
    "                    y=train['target'],\n",
    "                    cv=CV,\n",
    "                    title=\"Learning Curve - Baseline Model\")\n",
    "\n",
    "print_score_summary(scores)"
   ]
  },
  {
   "cell_type": "markdown",
   "id": "031ae6ac",
   "metadata": {},
   "source": [
    "### Logistic Regression with Count Vectorizer"
   ]
  },
  {
   "cell_type": "code",
   "execution_count": 60,
   "id": "6f8bb8cf",
   "metadata": {},
   "outputs": [],
   "source": [
    "steps_countvector = list()\n",
    "count_vectorizer = CountVectorizer(tokenizer=word_tokenize, token_pattern=None)\n",
    "steps_countvector.append(('Count-Vectorizer',count_vectorizer))\n",
    "steps_countvector.append(('model', LogisticRegression(solver='liblinear', random_state = SEED)))\n",
    "pipeline_countvector = Pipeline(steps_countvector)"
   ]
  },
  {
   "cell_type": "code",
   "execution_count": 61,
   "id": "bcd9584d",
   "metadata": {},
   "outputs": [
    {
     "data": {
      "image/png": "[encoded data removed]",
      "text/plain": [
       "<Figure size 432x288 with 1 Axes>"
      ]
     },
     "metadata": {
      "needs_background": "light"
     },
     "output_type": "display_data"
    },
    {
     "name": "stdout",
     "output_type": "stream",
     "text": [
      "Fold 0:\n",
      "F1 validation score: 0.7706122448979591\n",
      "\n",
      "Fold 1:\n",
      "F1 validation score: 0.7514450867052023\n",
      "\n",
      "Fold 2:\n",
      "F1 validation score: 0.7421686746987952\n",
      "\n",
      "Fold 3:\n",
      "F1 validation score: 0.7350287120590647\n",
      "\n",
      "Fold 4:\n",
      "F1 validation score: 0.7651888341543515\n",
      "\n",
      "Average F1 validation: 0.7528887105030746\n"
     ]
    }
   ],
   "source": [
    "scores = get_model_scores(X=train.text,\n",
    "                          y=train['target'],\n",
    "                          pipeline=pipeline_countvector,\n",
    "                          cv=CV)\n",
    "\n",
    "# plot the learning curve\n",
    "plot_learning_curve(pipeline_countvector,\n",
    "                    X=train.text,\n",
    "                    y=train['target'],\n",
    "                    cv=CV,\n",
    "                    title=\"Learning Curve - Baseline Model\")\n",
    "\n",
    "print_score_summary(scores)"
   ]
  },
  {
   "cell_type": "markdown",
   "id": "e0e6e36b",
   "metadata": {},
   "source": [
    "Looking at the training score, we get a sense that the model is overfitting and hence doing an L2 regularization would help our case"
   ]
  },
  {
   "cell_type": "code",
   "execution_count": 62,
   "id": "317b49ab",
   "metadata": {},
   "outputs": [],
   "source": [
    "steps_countvector = list()\n",
    "count_vectorizer = CountVectorizer(tokenizer=word_tokenize, token_pattern=None)\n",
    "steps_countvector.append(('Count-Vectorizer',count_vectorizer))\n",
    "steps_countvector.append(('model', LogisticRegression(solver='saga',\n",
    "                                                     C=0.3,\n",
    "                                                     fit_intercept = False,\n",
    "                                                     max_iter = 900,\n",
    "                                                     penalty = 'l2',\n",
    "                                                     random_state = SEED)))\n",
    "pipeline_countvector = Pipeline(steps_countvector)"
   ]
  },
  {
   "cell_type": "code",
   "execution_count": 63,
   "id": "4c9c5eb0",
   "metadata": {},
   "outputs": [
    {
     "data": {
      "image/png": "[encoded data removed]",
      "text/plain": [
       "<Figure size 432x288 with 1 Axes>"
      ]
     },
     "metadata": {
      "needs_background": "light"
     },
     "output_type": "display_data"
    },
    {
     "name": "stdout",
     "output_type": "stream",
     "text": [
      "Fold 0:\n",
      "F1 validation score: 0.7694753577106518\n",
      "\n",
      "Fold 1:\n",
      "F1 validation score: 0.7577442414614773\n",
      "\n",
      "Fold 2:\n",
      "F1 validation score: 0.7384131971720347\n",
      "\n",
      "Fold 3:\n",
      "F1 validation score: 0.7501970055161544\n",
      "\n",
      "Fold 4:\n",
      "F1 validation score: 0.7628865979381443\n",
      "\n",
      "Average F1 validation: 0.7557432799596926\n"
     ]
    }
   ],
   "source": [
    "scores = get_model_scores(X=train.text,\n",
    "                          y=train['target'],\n",
    "                          pipeline=pipeline_countvector,\n",
    "                          cv=CV)\n",
    "\n",
    "# plot the learning curve\n",
    "plot_learning_curve(pipeline_countvector,\n",
    "                    X=train.text,\n",
    "                    y=train['target'],\n",
    "                    cv=CV,\n",
    "                    title=\"Learning Curve - Baseline Model\")\n",
    "\n",
    "print_score_summary(scores)"
   ]
  },
  {
   "cell_type": "code",
   "execution_count": null,
   "id": "30217f5b",
   "metadata": {},
   "outputs": [],
   "source": []
  },
  {
   "cell_type": "code",
   "execution_count": null,
   "id": "6fd5c9e9",
   "metadata": {},
   "outputs": [],
   "source": []
  },
  {
   "cell_type": "markdown",
   "id": "61dc0da1",
   "metadata": {},
   "source": [
    "### Lemmatization and logistic regression with Count Vectorization"
   ]
  },
  {
   "cell_type": "code",
   "execution_count": 64,
   "id": "327ded92",
   "metadata": {},
   "outputs": [],
   "source": [
    "class LemmaTokenizer:\n",
    "    ignore_tokens = [',', '.', ';', ':', '\"', '``', \"''\", '`']\n",
    "    def __init__(self):\n",
    "        self.wnl = WordNetLemmatizer()\n",
    "    def __call__(self, doc):\n",
    "        return [self.wnl.lemmatize(t) for t in word_tokenize(doc) if t not in self.ignore_tokens]"
   ]
  },
  {
   "cell_type": "code",
   "execution_count": 65,
   "id": "422da3ff",
   "metadata": {},
   "outputs": [],
   "source": [
    "steps_lemm = list()\n",
    "count_vectorizer = CountVectorizer(tokenizer=LemmaTokenizer(), token_pattern=None)\n",
    "steps_lemm.append(('Count-Vectorizer',count_vectorizer))\n",
    "steps_lemm.append(('model', LogisticRegression(solver='saga',\n",
    "                                                     C=0.3,\n",
    "                                                     fit_intercept = False,\n",
    "                                                     max_iter = 900,\n",
    "                                                     penalty = 'l2',\n",
    "                                              random_state = SEED)))\n",
    "pipeline_lemm = Pipeline(steps_lemm)"
   ]
  },
  {
   "cell_type": "code",
   "execution_count": 66,
   "id": "8a89085d",
   "metadata": {},
   "outputs": [
    {
     "data": {
      "image/png": "[encoded data removed]",
      "text/plain": [
       "<Figure size 432x288 with 1 Axes>"
      ]
     },
     "metadata": {
      "needs_background": "light"
     },
     "output_type": "display_data"
    },
    {
     "name": "stdout",
     "output_type": "stream",
     "text": [
      "Fold 0:\n",
      "F1 validation score: 0.7758346581875993\n",
      "\n",
      "Fold 1:\n",
      "F1 validation score: 0.7564102564102564\n",
      "\n",
      "Fold 2:\n",
      "F1 validation score: 0.7409733124018839\n",
      "\n",
      "Fold 3:\n",
      "F1 validation score: 0.7554858934169278\n",
      "\n",
      "Fold 4:\n",
      "F1 validation score: 0.7605409705648369\n",
      "\n",
      "Average F1 validation: 0.7578490181963009\n"
     ]
    }
   ],
   "source": [
    "scores = get_model_scores(X=train.text,\n",
    "                          y=train['target'],\n",
    "                          pipeline=pipeline_lemm,\n",
    "                          cv=CV)\n",
    "\n",
    "# plot the learning curve\n",
    "plot_learning_curve(pipeline_lemm,\n",
    "                    X=train.text,\n",
    "                    y=train['target'],\n",
    "                    cv=CV,\n",
    "                    title=\"Learning Curve - Baseline Model\")\n",
    "\n",
    "print_score_summary(scores)"
   ]
  },
  {
   "cell_type": "markdown",
   "id": "7a84c027",
   "metadata": {},
   "source": [
    "### Adding the keywords column as well in feature space"
   ]
  },
  {
   "cell_type": "code",
   "execution_count": 67,
   "id": "beb7d581",
   "metadata": {},
   "outputs": [],
   "source": [
    "steps_text_keyword = list()\n",
    "\n",
    "col_transformations = ColumnTransformer(transformers=[\n",
    "    (\"encoding\", OneHotEncoder(handle_unknown='ignore'), ['keyword']),\n",
    "    ('vectorizarion', CountVectorizer(tokenizer=LemmaTokenizer(), token_pattern=None), 'text')\n",
    "])\n",
    "\n",
    "#count_vectorizer = CountVectorizer(tokenizer=LemmaTokenizer(), token_pattern=None)\n",
    "steps_text_keyword.append(('features',col_transformations))\n",
    "steps_text_keyword.append(('model', LogisticRegression(solver='saga',\n",
    "                                                     C=0.3,\n",
    "                                                     fit_intercept = False,\n",
    "                                                     max_iter = 900,\n",
    "                                                     penalty = 'l2',\n",
    "                                                      random_state = SEED)))\n",
    "pipeline_text_keyword = Pipeline(steps=steps_text_keyword)"
   ]
  },
  {
   "cell_type": "code",
   "execution_count": 68,
   "id": "235c289f",
   "metadata": {},
   "outputs": [
    {
     "data": {
      "image/png": "[encoded data removed]",
      "text/plain": [
       "<Figure size 432x288 with 1 Axes>"
      ]
     },
     "metadata": {
      "needs_background": "light"
     },
     "output_type": "display_data"
    },
    {
     "name": "stdout",
     "output_type": "stream",
     "text": [
      "Fold 0:\n",
      "F1 validation score: 0.7747603833865815\n",
      "\n",
      "Fold 1:\n",
      "F1 validation score: 0.7639000805801773\n",
      "\n",
      "Fold 2:\n",
      "F1 validation score: 0.7567567567567567\n",
      "\n",
      "Fold 3:\n",
      "F1 validation score: 0.7594339622641509\n",
      "\n",
      "Fold 4:\n",
      "F1 validation score: 0.7682437850842021\n",
      "\n",
      "Average F1 validation: 0.7646189936143737\n"
     ]
    }
   ],
   "source": [
    "scores = get_model_scores(X=train[['keyword','text']],\n",
    "                          y=train['target'],\n",
    "                          pipeline=pipeline_text_keyword,\n",
    "                          cv=CV)\n",
    "\n",
    "# plot the learning curve\n",
    "plot_learning_curve(pipeline_text_keyword,\n",
    "                    X=train[['keyword','text']],\n",
    "                    y=train['target'],\n",
    "                    cv=CV,\n",
    "                    title=\"Learning Curve - Baseline Model\")\n",
    "\n",
    "print_score_summary(scores)"
   ]
  },
  {
   "cell_type": "markdown",
   "id": "b7bb8ee3",
   "metadata": {},
   "source": [
    "### Using Decision Trees with Lemmatization + Count vectorization"
   ]
  },
  {
   "cell_type": "code",
   "execution_count": 85,
   "id": "5436cc75",
   "metadata": {},
   "outputs": [],
   "source": [
    "steps_dt = list()\n",
    "\n",
    "col_transformations = ColumnTransformer(transformers=[\n",
    "    (\"encoding\", OneHotEncoder(handle_unknown='ignore'), ['keyword']),\n",
    "    ('vectorizarion', CountVectorizer(tokenizer=LemmaTokenizer(), token_pattern=None), 'text')\n",
    "])\n",
    "\n",
    "#count_vectorizer = CountVectorizer(tokenizer=LemmaTokenizer(), token_pattern=None)\n",
    "steps_dt.append(('features',col_transformations))\n",
    "steps_dt.append(('model', DecisionTreeClassifier(criterion='gini', random_state=SEED)))\n",
    "pipeline_dt = Pipeline(steps=steps_dt)"
   ]
  },
  {
   "cell_type": "code",
   "execution_count": 86,
   "id": "6be6a68d",
   "metadata": {},
   "outputs": [
    {
     "data": {
      "image/png": "[encoded data removed]",
      "text/plain": [
       "<Figure size 432x288 with 1 Axes>"
      ]
     },
     "metadata": {
      "needs_background": "light"
     },
     "output_type": "display_data"
    },
    {
     "name": "stdout",
     "output_type": "stream",
     "text": [
      "Fold 0:\n",
      "F1 validation score: 0.6984884645982498\n",
      "\n",
      "Fold 1:\n",
      "F1 validation score: 0.677445432497979\n",
      "\n",
      "Fold 2:\n",
      "F1 validation score: 0.6728110599078341\n",
      "\n",
      "Fold 3:\n",
      "F1 validation score: 0.6893353941267388\n",
      "\n",
      "Fold 4:\n",
      "F1 validation score: 0.6749418153607447\n",
      "\n",
      "Average F1 validation: 0.6826044332983093\n"
     ]
    }
   ],
   "source": [
    "scores = get_model_scores(X=train[['keyword','text']],\n",
    "                          y=train['target'],\n",
    "                          pipeline=pipeline_dt,\n",
    "                          cv=CV)\n",
    "\n",
    "# plot the learning curve\n",
    "plot_learning_curve(pipeline_dt,\n",
    "                    X=train[['keyword','text']],\n",
    "                    y=train['target'],\n",
    "                    cv=CV,\n",
    "                    title=\"Learning Curve - Baseline Model\")\n",
    "\n",
    "print_score_summary(scores)"
   ]
  },
  {
   "cell_type": "markdown",
   "id": "92caf2e5",
   "metadata": {},
   "source": [
    "As we can see the tree classifier is overfitting the data, hence we can prune the tree to avoid overfitting"
   ]
  },
  {
   "cell_type": "code",
   "execution_count": 83,
   "id": "c2deab95",
   "metadata": {},
   "outputs": [],
   "source": [
    "steps_dt = list()\n",
    "\n",
    "col_transformations = ColumnTransformer(transformers=[\n",
    "    (\"encoding\", OneHotEncoder(handle_unknown='ignore'), ['keyword']),\n",
    "    ('vectorizarion', CountVectorizer(tokenizer=LemmaTokenizer(), token_pattern=None), 'text')\n",
    "])\n",
    "\n",
    "#count_vectorizer = CountVectorizer(tokenizer=LemmaTokenizer(), token_pattern=None)\n",
    "steps_dt.append(('features',col_transformations))\n",
    "steps_dt.append(('model', DecisionTreeClassifier(criterion = 'gini', max_depth=75, random_state = SEED)))\n",
    "pipeline_dt = Pipeline(steps=steps_dt)"
   ]
  },
  {
   "cell_type": "code",
   "execution_count": 84,
   "id": "8d4a3c72",
   "metadata": {},
   "outputs": [
    {
     "data": {
      "image/png": "[encoded data removed]",
      "text/plain": [
       "<Figure size 432x288 with 1 Axes>"
      ]
     },
     "metadata": {
      "needs_background": "light"
     },
     "output_type": "display_data"
    },
    {
     "name": "stdout",
     "output_type": "stream",
     "text": [
      "Fold 0:\n",
      "F1 validation score: 0.6750841750841752\n",
      "\n",
      "Fold 1:\n",
      "F1 validation score: 0.6501283147989735\n",
      "\n",
      "Fold 2:\n",
      "F1 validation score: 0.6711074104912572\n",
      "\n",
      "Fold 3:\n",
      "F1 validation score: 0.6682966585167075\n",
      "\n",
      "Fold 4:\n",
      "F1 validation score: 0.6754530477759473\n",
      "\n",
      "Average F1 validation: 0.6680139213334122\n"
     ]
    }
   ],
   "source": [
    "scores = get_model_scores(X=train[['keyword','text']],\n",
    "                          y=train['target'],\n",
    "                          pipeline=pipeline_dt,\n",
    "                          cv=CV)\n",
    "\n",
    "# plot the learning curve\n",
    "plot_learning_curve(pipeline_dt,\n",
    "                    X=train[['keyword','text']],\n",
    "                    y=train['target'],\n",
    "                    cv=CV,\n",
    "                    title=\"Learning Curve - Baseline Model\")\n",
    "\n",
    "print_score_summary(scores)"
   ]
  },
  {
   "cell_type": "markdown",
   "id": "eb5764b0",
   "metadata": {},
   "source": [
    "## Lemmatization + Count Vectorization + SVC"
   ]
  },
  {
   "cell_type": "code",
   "execution_count": 89,
   "id": "c7809383",
   "metadata": {},
   "outputs": [],
   "source": [
    "steps_svc = list()\n",
    "\n",
    "col_transformations = ColumnTransformer(transformers=[\n",
    "    (\"encoding\", OneHotEncoder(handle_unknown='ignore'), ['keyword']),\n",
    "    ('vectorizarion', CountVectorizer(tokenizer=LemmaTokenizer(), token_pattern=None), 'text')\n",
    "])\n",
    "\n",
    "#count_vectorizer = CountVectorizer(tokenizer=LemmaTokenizer(), token_pattern=None)\n",
    "steps_svc.append(('features',col_transformations))\n",
    "steps_svc.append(('model', svm.LinearSVC(random_state=SEED)))\n",
    "pipeline_svc = Pipeline(steps=steps_svc)"
   ]
  },
  {
   "cell_type": "code",
   "execution_count": 90,
   "id": "72154159",
   "metadata": {},
   "outputs": [
    {
     "data": {
      "image/png": "[encoded data removed]",
      "text/plain": [
       "<Figure size 432x288 with 1 Axes>"
      ]
     },
     "metadata": {
      "needs_background": "light"
     },
     "output_type": "display_data"
    },
    {
     "name": "stdout",
     "output_type": "stream",
     "text": [
      "Fold 0:\n",
      "F1 validation score: 0.7483974358974358\n",
      "\n",
      "Fold 1:\n",
      "F1 validation score: 0.7360774818401936\n",
      "\n",
      "Fold 2:\n",
      "F1 validation score: 0.7259729944400316\n",
      "\n",
      "Fold 3:\n",
      "F1 validation score: 0.721259842519685\n",
      "\n",
      "Fold 4:\n",
      "F1 validation score: 0.7394695787831513\n",
      "\n",
      "Average F1 validation: 0.7342354666960995\n"
     ]
    }
   ],
   "source": [
    "scores = get_model_scores(X=train[['keyword','text']],\n",
    "                          y=train['target'],\n",
    "                          pipeline=pipeline_svc,\n",
    "                          cv=CV)\n",
    "\n",
    "# plot the learning curve\n",
    "plot_learning_curve(pipeline_svc,\n",
    "                    X=train[['keyword','text']],\n",
    "                    y=train['target'],\n",
    "                    cv=CV,\n",
    "                    title=\"Learning Curve - Baseline Model\")\n",
    "\n",
    "print_score_summary(scores)"
   ]
  },
  {
   "cell_type": "markdown",
   "id": "ed382fbc",
   "metadata": {},
   "source": [
    "The LinearSVC model is overfitting, let's try with the L2 penalty"
   ]
  },
  {
   "cell_type": "code",
   "execution_count": 91,
   "id": "bd40a9ef",
   "metadata": {},
   "outputs": [],
   "source": [
    "steps_svc = list()\n",
    "\n",
    "col_transformations = ColumnTransformer(transformers=[\n",
    "    (\"encoding\", OneHotEncoder(handle_unknown='ignore'), ['keyword']),\n",
    "    ('vectorizarion', CountVectorizer(tokenizer=LemmaTokenizer(), token_pattern=None), 'text')\n",
    "])\n",
    "\n",
    "#count_vectorizer = CountVectorizer(tokenizer=LemmaTokenizer(), token_pattern=None)\n",
    "steps_svc.append(('features',col_transformations))\n",
    "steps_svc.append(('model', svm.LinearSVC(penalty = 'l2',\n",
    "                                         C=0.02,\n",
    "                                         random_state=SEED)))\n",
    "pipeline_svc = Pipeline(steps=steps_svc)"
   ]
  },
  {
   "cell_type": "code",
   "execution_count": 92,
   "id": "6854f1a2",
   "metadata": {},
   "outputs": [
    {
     "data": {
      "image/png": "[encoded data removed]",
      "text/plain": [
       "<Figure size 432x288 with 1 Axes>"
      ]
     },
     "metadata": {
      "needs_background": "light"
     },
     "output_type": "display_data"
    },
    {
     "name": "stdout",
     "output_type": "stream",
     "text": [
      "Fold 0:\n",
      "F1 validation score: 0.7782357790601814\n",
      "\n",
      "Fold 1:\n",
      "F1 validation score: 0.7581589958158995\n",
      "\n",
      "Fold 2:\n",
      "F1 validation score: 0.749793559042114\n",
      "\n",
      "Fold 3:\n",
      "F1 validation score: 0.762301918265221\n",
      "\n",
      "Fold 4:\n",
      "F1 validation score: 0.7608695652173912\n",
      "\n",
      "Average F1 validation: 0.7618719634801614\n"
     ]
    }
   ],
   "source": [
    "scores = get_model_scores(X=train[['keyword','text']],\n",
    "                          y=train['target'],\n",
    "                          pipeline=pipeline_svc,\n",
    "                          cv=CV)\n",
    "\n",
    "# plot the learning curve\n",
    "plot_learning_curve(pipeline_svc,\n",
    "                    X=train[['keyword','text']],\n",
    "                    y=train['target'],\n",
    "                    cv=CV,\n",
    "                    title=\"Learning Curve - Baseline Model\")\n",
    "\n",
    "print_score_summary(scores)"
   ]
  },
  {
   "cell_type": "markdown",
   "id": "25284aa9",
   "metadata": {},
   "source": [
    "Great F1-score"
   ]
  },
  {
   "cell_type": "markdown",
   "id": "c102981d",
   "metadata": {},
   "source": [
    "## Lemmatization + Count Vectorization + XGBoost"
   ]
  },
  {
   "cell_type": "code",
   "execution_count": 107,
   "id": "250bbe80",
   "metadata": {},
   "outputs": [],
   "source": [
    "steps_xgb = list()\n",
    "\n",
    "col_transformations = ColumnTransformer(transformers=[\n",
    "    (\"encoding\", OneHotEncoder(handle_unknown='ignore'), ['keyword']),\n",
    "    ('vectorizarion', CountVectorizer(tokenizer=LemmaTokenizer(), token_pattern=None), 'text')\n",
    "])\n",
    "\n",
    "#count_vectorizer = CountVectorizer(tokenizer=LemmaTokenizer(), token_pattern=None)\n",
    "steps_xgb.append(('features',col_transformations))\n",
    "steps_xgb.append(('model', XGBClassifier(eval_metric = 'logloss',\n",
    "                                         #use_label_encoder= False,\n",
    "                                         random_state=SEED)))\n",
    "pipeline_xgb = Pipeline(steps=steps_xgb)"
   ]
  },
  {
   "cell_type": "code",
   "execution_count": 108,
   "id": "f9129da9",
   "metadata": {},
   "outputs": [
    {
     "data": {
      "image/png": "[encoded data removed]",
      "text/plain": [
       "<Figure size 432x288 with 1 Axes>"
      ]
     },
     "metadata": {
      "needs_background": "light"
     },
     "output_type": "display_data"
    },
    {
     "name": "stdout",
     "output_type": "stream",
     "text": [
      "Fold 0:\n",
      "F1 validation score: 0.74466268146883\n",
      "\n",
      "Fold 1:\n",
      "F1 validation score: 0.7255574614065181\n",
      "\n",
      "Fold 2:\n",
      "F1 validation score: 0.7186440677966102\n",
      "\n",
      "Fold 3:\n",
      "F1 validation score: 0.7314974182444062\n",
      "\n",
      "Fold 4:\n",
      "F1 validation score: 0.7218430034129693\n",
      "\n",
      "Average F1 validation: 0.7284409264658668\n"
     ]
    }
   ],
   "source": [
    "scores = get_model_scores(X=train[['keyword','text']],\n",
    "                          y=train['target'],\n",
    "                          pipeline=pipeline_xgb,\n",
    "                          cv=CV)\n",
    "\n",
    "# plot the learning curve\n",
    "plot_learning_curve(pipeline_xgb,\n",
    "                    X=train[['keyword','text']],\n",
    "                    y=train['target'],\n",
    "                    cv=CV,\n",
    "                    title=\"Learning Curve - Baseline Model\")\n",
    "\n",
    "print_score_summary(scores)"
   ]
  },
  {
   "cell_type": "code",
   "execution_count": null,
   "id": "9f22a9af",
   "metadata": {},
   "outputs": [],
   "source": []
  },
  {
   "cell_type": "markdown",
   "id": "a17120a3",
   "metadata": {},
   "source": [
    "## Ensembling LogisticRegression + SVC + XGBoost"
   ]
  },
  {
   "cell_type": "code",
   "execution_count": 109,
   "id": "f6e066d7",
   "metadata": {},
   "outputs": [],
   "source": [
    "estimators = [\n",
    "    ('logreg', LogisticRegression(solver='saga',\n",
    "                               C=0.3,\n",
    "                               fit_intercept=False,\n",
    "                               max_iter=900,\n",
    "                               penalty=\"l2\",\n",
    "                               random_state=SEED)),\n",
    "    \n",
    "    ('svc', svm.LinearSVC(penalty=\"l2\",\n",
    "                          C=0.02,\n",
    "                          random_state=SEED)),\n",
    "    \n",
    "    ('xgbclass', XGBClassifier(eval_metric=\"logloss\",\n",
    "                              random_state=SEED))\n",
    "]\n",
    "\n",
    "steps_ensemble = list()\n",
    "\n",
    "col_transformations = ColumnTransformer(transformers=[\n",
    "    (\"encoding\", OneHotEncoder(handle_unknown='ignore'), ['keyword']),\n",
    "    ('vectorizarion', CountVectorizer(tokenizer=LemmaTokenizer(), token_pattern=None), 'text')\n",
    "])\n",
    "steps_ensemble.append(('features', col_transformations))\n",
    "steps_ensemble.append(('stacking', StackingClassifier(estimators, cv=CV)))\n",
    "\n",
    "pipeline_ensemble = Pipeline(steps=steps_ensemble)\n"
   ]
  },
  {
   "cell_type": "code",
   "execution_count": 113,
   "id": "875a51ec",
   "metadata": {},
   "outputs": [
    {
     "name": "stdout",
     "output_type": "stream",
     "text": [
      "Fold 0:\n",
      "F1 validation score: 0.7789646672144617\n",
      "\n",
      "Fold 1:\n",
      "F1 validation score: 0.7627677100494236\n",
      "\n",
      "Fold 2:\n",
      "F1 validation score: 0.752827140549273\n",
      "\n",
      "Fold 3:\n",
      "F1 validation score: 0.7653311529026984\n",
      "\n",
      "Fold 4:\n",
      "F1 validation score: 0.7665562913907285\n",
      "\n",
      "Average F1 validation: 0.765289392421317\n"
     ]
    }
   ],
   "source": [
    "scores = get_model_scores(X=train[['keyword','text']],\n",
    "                          y=train['target'],\n",
    "                          pipeline=pipeline_ensemble,\n",
    "                          cv=CV)\n",
    "\n",
    "print_score_summary(scores)"
   ]
  },
  {
   "cell_type": "markdown",
   "id": "0a306890",
   "metadata": {},
   "source": [
    "We are ready with our final model. Let's predict now and see our F1-score"
   ]
  },
  {
   "cell_type": "markdown",
   "id": "1cd656da",
   "metadata": {},
   "source": [
    "### Fit on train set & Prediction on test"
   ]
  },
  {
   "cell_type": "code",
   "execution_count": 114,
   "id": "e454e39b",
   "metadata": {},
   "outputs": [
    {
     "data": {
      "text/plain": [
       "Pipeline(steps=[('features',\n",
       "                 ColumnTransformer(transformers=[('encoding',\n",
       "                                                  OneHotEncoder(handle_unknown='ignore'),\n",
       "                                                  ['keyword']),\n",
       "                                                 ('vectorizarion',\n",
       "                                                  CountVectorizer(token_pattern=None,\n",
       "                                                                  tokenizer=<__main__.LemmaTokenizer object at 0x7fca6c102520>),\n",
       "                                                  'text')])),\n",
       "                ('stacking',\n",
       "                 StackingClassifier(cv=StratifiedKFold(n_splits=5, random_state=42, shuffle=True),\n",
       "                                    estimators=[(...\n",
       "                                                               gpu_id=None,\n",
       "                                                               grow_policy=None,\n",
       "                                                               importance_type=None,\n",
       "                                                               interaction_constraints=None,\n",
       "                                                               learning_rate=None,\n",
       "                                                               max_bin=None,\n",
       "                                                               max_cat_threshold=None,\n",
       "                                                               max_cat_to_onehot=None,\n",
       "                                                               max_delta_step=None,\n",
       "                                                               max_depth=None,\n",
       "                                                               max_leaves=None,\n",
       "                                                               min_child_weight=None,\n",
       "                                                               missing=nan,\n",
       "                                                               monotone_constraints=None,\n",
       "                                                               n_estimators=100,\n",
       "                                                               n_jobs=None,\n",
       "                                                               num_parallel_tree=None,\n",
       "                                                               predictor=None,\n",
       "                                                               random_state=42, ...))]))])"
      ]
     },
     "execution_count": 114,
     "metadata": {},
     "output_type": "execute_result"
    }
   ],
   "source": [
    "pipeline_ensemble.fit(train[['keyword','text']],train['target'])"
   ]
  },
  {
   "cell_type": "code",
   "execution_count": 115,
   "id": "980d997d",
   "metadata": {},
   "outputs": [],
   "source": [
    "y_pred = pipeline_ensemble.predict(test[['keyword','text']])"
   ]
  },
  {
   "cell_type": "code",
   "execution_count": null,
   "id": "d99bf2c4",
   "metadata": {},
   "outputs": [],
   "source": []
  }
 ],
 "metadata": {
  "kernelspec": {
   "display_name": "Python 3 (ipykernel)",
   "language": "python",
   "name": "python3"
  },
  "language_info": {
   "codemirror_mode": {
    "name": "ipython",
    "version": 3
   },
   "file_extension": ".py",
   "mimetype": "text/x-python",
   "name": "python",
   "nbconvert_exporter": "python",
   "pygments_lexer": "ipython3",
   "version": "3.8.0"
  }
 },
 "nbformat": 4,
 "nbformat_minor": 5
}
